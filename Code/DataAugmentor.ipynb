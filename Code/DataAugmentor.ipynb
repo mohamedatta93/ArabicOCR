{
 "cells": [
  {
   "cell_type": "code",
   "execution_count": 61,
   "metadata": {},
   "outputs": [
    {
     "name": "stdout",
     "output_type": "stream",
     "text": [
      "Initialised with 103 image(s) found.\n",
      "Output directory set to E:\\fci\\premaster\\2nd term\\machine learning\\learning projects\\ArabicOCR\\DataV2\\numbers\\ahad\\output."
     ]
    },
    {
     "name": "stderr",
     "output_type": "stream",
     "text": [
      "Processing <PIL.Image.Image image mode=1 size=348x277 at 0x1498C537550>: 100%|█| 1500/1500 [05:40<00:00,  4.40 Samples/s]\n"
     ]
    },
    {
     "name": "stdout",
     "output_type": "stream",
     "text": [
      "Initialised with 103 image(s) found.\n",
      "Output directory set to E:\\fci\\premaster\\2nd term\\machine learning\\learning projects\\ArabicOCR\\DataV2\\numbers\\ahda\\output."
     ]
    },
    {
     "name": "stderr",
     "output_type": "stream",
     "text": [
      "Processing <PIL.Image.Image image mode=1 size=601x324 at 0x14991E90D68>: 100%|█| 1500/1500 [04:00<00:00,  6.23 Samples/s] \n"
     ]
    },
    {
     "name": "stdout",
     "output_type": "stream",
     "text": [
      "Initialised with 104 image(s) found.\n",
      "Output directory set to E:\\fci\\premaster\\2nd term\\machine learning\\learning projects\\ArabicOCR\\DataV2\\numbers\\ethna\\output."
     ]
    },
    {
     "name": "stderr",
     "output_type": "stream",
     "text": [
      "Processing <PIL.Image.Image image mode=1 size=361x235 at 0x14991D4ADD8>: 100%|█| 1500/1500 [04:03<00:00,  6.15 Samples/s] \n"
     ]
    },
    {
     "name": "stdout",
     "output_type": "stream",
     "text": [
      "Initialised with 104 image(s) found.\n",
      "Output directory set to E:\\fci\\premaster\\2nd term\\machine learning\\learning projects\\ArabicOCR\\DataV2\\numbers\\one\\output."
     ]
    },
    {
     "name": "stderr",
     "output_type": "stream",
     "text": [
      "Processing <PIL.Image.Image image mode=1 size=355x199 at 0x14991E3BEB8>: 100%|█| 1500/1500 [04:02<00:00,  6.19 Samples/s] \n"
     ]
    },
    {
     "name": "stdout",
     "output_type": "stream",
     "text": [
      "Initialised with 210 image(s) found.\n",
      "Output directory set to E:\\fci\\premaster\\2nd term\\machine learning\\learning projects\\ArabicOCR\\DataV2\\numbers\\two\\output."
     ]
    },
    {
     "name": "stderr",
     "output_type": "stream",
     "text": [
      "Processing <PIL.Image.Image image mode=1 size=473x312 at 0x14991EFE400>: 100%|█| 1500/1500 [03:58<00:00,  6.28 Samples/s] \n"
     ]
    },
    {
     "name": "stdout",
     "output_type": "stream",
     "text": [
      "Initialised with 210 image(s) found.\n",
      "Output directory set to E:\\fci\\premaster\\2nd term\\machine learning\\learning projects\\ArabicOCR\\DataV2\\numbers\\three\\output."
     ]
    },
    {
     "name": "stderr",
     "output_type": "stream",
     "text": [
      "Processing <PIL.Image.Image image mode=1 size=492x186 at 0x14991D3E390>: 100%|█| 1500/1500 [03:58<00:00,  6.28 Samples/s] \n"
     ]
    },
    {
     "name": "stdout",
     "output_type": "stream",
     "text": [
      "Initialised with 209 image(s) found.\n",
      "Output directory set to E:\\fci\\premaster\\2nd term\\machine learning\\learning projects\\ArabicOCR\\DataV2\\numbers\\four\\output."
     ]
    },
    {
     "name": "stderr",
     "output_type": "stream",
     "text": [
      "Processing <PIL.Image.Image image mode=1 size=487x313 at 0x14991E1D9B0>: 100%|█| 1500/1500 [04:02<00:00,  6.19 Samples/s]\n"
     ]
    },
    {
     "name": "stdout",
     "output_type": "stream",
     "text": [
      "Initialised with 209 image(s) found.\n",
      "Output directory set to E:\\fci\\premaster\\2nd term\\machine learning\\learning projects\\ArabicOCR\\DataV2\\numbers\\five\\output."
     ]
    },
    {
     "name": "stderr",
     "output_type": "stream",
     "text": [
      "Processing <PIL.Image.Image image mode=1 size=456x217 at 0x14991D0B3C8>: 100%|█| 1500/1500 [04:02<00:00,  6.19 Samples/s] \n"
     ]
    },
    {
     "name": "stdout",
     "output_type": "stream",
     "text": [
      "Initialised with 209 image(s) found.\n",
      "Output directory set to E:\\fci\\premaster\\2nd term\\machine learning\\learning projects\\ArabicOCR\\DataV2\\numbers\\six\\output."
     ]
    },
    {
     "name": "stderr",
     "output_type": "stream",
     "text": [
      "Processing <PIL.Image.Image image mode=1 size=360x192 at 0x14991D70438>: 100%|█| 1500/1500 [03:58<00:00,  6.29 Samples/s] \n"
     ]
    },
    {
     "name": "stdout",
     "output_type": "stream",
     "text": [
      "Initialised with 210 image(s) found.\n",
      "Output directory set to E:\\fci\\premaster\\2nd term\\machine learning\\learning projects\\ArabicOCR\\DataV2\\numbers\\seven\\output."
     ]
    },
    {
     "name": "stderr",
     "output_type": "stream",
     "text": [
      "Processing <PIL.Image.Image image mode=1 size=516x271 at 0x14991DB1860>: 100%|█| 1500/1500 [04:02<00:00,  6.20 Samples/s]\n"
     ]
    },
    {
     "name": "stdout",
     "output_type": "stream",
     "text": [
      "Initialised with 208 image(s) found.\n",
      "Output directory set to E:\\fci\\premaster\\2nd term\\machine learning\\learning projects\\ArabicOCR\\DataV2\\numbers\\eight\\output."
     ]
    },
    {
     "name": "stderr",
     "output_type": "stream",
     "text": [
      "Processing <PIL.Image.Image image mode=1 size=683x337 at 0x1498EA0DF98>: 100%|█| 1500/1500 [03:58<00:00, 13.97 Samples/s] \n"
     ]
    },
    {
     "name": "stdout",
     "output_type": "stream",
     "text": [
      "Initialised with 209 image(s) found.\n",
      "Output directory set to E:\\fci\\premaster\\2nd term\\machine learning\\learning projects\\ArabicOCR\\DataV2\\numbers\\nine\\output."
     ]
    },
    {
     "name": "stderr",
     "output_type": "stream",
     "text": [
      "Processing <PIL.Image.Image image mode=1 size=462x241 at 0x14991EC04A8>: 100%|█| 1500/1500 [04:04<00:00,  6.14 Samples/s]\n"
     ]
    },
    {
     "name": "stdout",
     "output_type": "stream",
     "text": [
      "Initialised with 209 image(s) found.\n",
      "Output directory set to E:\\fci\\premaster\\2nd term\\machine learning\\learning projects\\ArabicOCR\\DataV2\\numbers\\ten\\output."
     ]
    },
    {
     "name": "stderr",
     "output_type": "stream",
     "text": [
      "Processing <PIL.Image.Image image mode=1 size=468x229 at 0x14991D402E8>: 100%|█| 1500/1500 [04:00<00:00,  6.23 Samples/s] \n"
     ]
    },
    {
     "name": "stdout",
     "output_type": "stream",
     "text": [
      "Initialised with 210 image(s) found.\n",
      "Output directory set to E:\\fci\\premaster\\2nd term\\machine learning\\learning projects\\ArabicOCR\\DataV2\\numbers\\twenty\\output."
     ]
    },
    {
     "name": "stderr",
     "output_type": "stream",
     "text": [
      "Processing <PIL.Image.Image image mode=1 size=462x199 at 0x1498C51CA90>: 100%|█| 1500/1500 [04:01<00:00,  6.21 Samples/s] \n"
     ]
    },
    {
     "name": "stdout",
     "output_type": "stream",
     "text": [
      "Initialised with 208 image(s) found.\n",
      "Output directory set to E:\\fci\\premaster\\2nd term\\machine learning\\learning projects\\ArabicOCR\\DataV2\\numbers\\thirty\\output."
     ]
    },
    {
     "name": "stderr",
     "output_type": "stream",
     "text": [
      "Processing <PIL.Image.Image image mode=1 size=421x300 at 0x14991F1FEB8>: 100%|█| 1500/1500 [04:07<00:00, 13.34 Samples/s] \n"
     ]
    },
    {
     "name": "stdout",
     "output_type": "stream",
     "text": [
      "Initialised with 209 image(s) found.\n",
      "Output directory set to E:\\fci\\premaster\\2nd term\\machine learning\\learning projects\\ArabicOCR\\DataV2\\numbers\\fourty\\output."
     ]
    },
    {
     "name": "stderr",
     "output_type": "stream",
     "text": [
      "Processing <PIL.Image.Image image mode=1 size=517x265 at 0x14991D811D0>: 100%|█| 1500/1500 [03:56<00:00,  6.35 Samples/s] \n"
     ]
    },
    {
     "name": "stdout",
     "output_type": "stream",
     "text": [
      "Initialised with 209 image(s) found.\n",
      "Output directory set to E:\\fci\\premaster\\2nd term\\machine learning\\learning projects\\ArabicOCR\\DataV2\\numbers\\fifty\\output."
     ]
    },
    {
     "name": "stderr",
     "output_type": "stream",
     "text": [
      "Processing <PIL.Image.Image image mode=1 size=720x192 at 0x1498FB67B38>: 100%|█| 1500/1500 [04:02<00:00,  6.18 Samples/s] \n"
     ]
    },
    {
     "name": "stdout",
     "output_type": "stream",
     "text": [
      "Initialised with 209 image(s) found.\n",
      "Output directory set to E:\\fci\\premaster\\2nd term\\machine learning\\learning projects\\ArabicOCR\\DataV2\\numbers\\sixty\\output."
     ]
    },
    {
     "name": "stderr",
     "output_type": "stream",
     "text": [
      "Processing <PIL.Image.Image image mode=1 size=445x217 at 0x1498FB2DCF8>: 100%|█| 1500/1500 [04:09<00:00,  6.01 Samples/s] \n"
     ]
    },
    {
     "name": "stdout",
     "output_type": "stream",
     "text": [
      "Initialised with 209 image(s) found.\n",
      "Output directory set to E:\\fci\\premaster\\2nd term\\machine learning\\learning projects\\ArabicOCR\\DataV2\\numbers\\seventy\\output."
     ]
    },
    {
     "name": "stderr",
     "output_type": "stream",
     "text": [
      "Processing <PIL.Image.Image image mode=1 size=564x217 at 0x14991EC95C0>: 100%|█| 1500/1500 [03:59<00:00,  6.27 Samples/s]\n"
     ]
    },
    {
     "name": "stdout",
     "output_type": "stream",
     "text": [
      "Initialised with 208 image(s) found.\n",
      "Output directory set to E:\\fci\\premaster\\2nd term\\machine learning\\learning projects\\ArabicOCR\\DataV2\\numbers\\eighty\\output."
     ]
    },
    {
     "name": "stderr",
     "output_type": "stream",
     "text": [
      "Processing <PIL.Image.Image image mode=1 size=403x265 at 0x14991DB02E8>: 100%|█| 1500/1500 [05:00<00:00,  4.99 Samples/s]\n"
     ]
    },
    {
     "name": "stdout",
     "output_type": "stream",
     "text": [
      "Initialised with 210 image(s) found.\n",
      "Output directory set to E:\\fci\\premaster\\2nd term\\machine learning\\learning projects\\ArabicOCR\\DataV2\\numbers\\ninety\\output."
     ]
    },
    {
     "name": "stderr",
     "output_type": "stream",
     "text": [
      "Processing <PIL.Image.Image image mode=1 size=738x276 at 0x14991F4CD30>: 100%|█| 1500/1500 [04:35<00:00,  5.44 Samples/s]\n"
     ]
    },
    {
     "name": "stdout",
     "output_type": "stream",
     "text": [
      "Initialised with 209 image(s) found.\n",
      "Output directory set to E:\\fci\\premaster\\2nd term\\machine learning\\learning projects\\ArabicOCR\\DataV2\\numbers\\hundered\\output."
     ]
    },
    {
     "name": "stderr",
     "output_type": "stream",
     "text": [
      "Processing <PIL.Image.Image image mode=1 size=397x198 at 0x14991DD5828>: 100%|█| 1500/1500 [04:41<00:00,  5.32 Samples/s]\n"
     ]
    },
    {
     "name": "stdout",
     "output_type": "stream",
     "text": [
      "Initialised with 210 image(s) found.\n",
      "Output directory set to E:\\fci\\premaster\\2nd term\\machine learning\\learning projects\\ArabicOCR\\DataV2\\numbers\\twoh\\output."
     ]
    },
    {
     "name": "stderr",
     "output_type": "stream",
     "text": [
      "Processing <PIL.Image.Image image mode=1 size=571x241 at 0x14991D12AC8>: 100%|█| 1500/1500 [05:16<00:00,  4.74 Samples/s]\n"
     ]
    },
    {
     "name": "stdout",
     "output_type": "stream",
     "text": [
      "Initialised with 211 image(s) found.\n",
      "Output directory set to E:\\fci\\premaster\\2nd term\\machine learning\\learning projects\\ArabicOCR\\DataV2\\numbers\\threeh\\output."
     ]
    },
    {
     "name": "stderr",
     "output_type": "stream",
     "text": [
      "Processing <PIL.Image.Image image mode=1 size=301x103 at 0x1498FAF1CC0>: 100%|█| 1500/1500 [05:50<00:00,  4.28 Samples/s]\n"
     ]
    },
    {
     "name": "stdout",
     "output_type": "stream",
     "text": [
      "Initialised with 208 image(s) found.\n",
      "Output directory set to E:\\fci\\premaster\\2nd term\\machine learning\\learning projects\\ArabicOCR\\DataV2\\numbers\\fourh\\output."
     ]
    },
    {
     "name": "stderr",
     "output_type": "stream",
     "text": [
      "Processing <PIL.Image.Image image mode=1 size=582x259 at 0x14991D582E8>: 100%|█| 1500/1500 [05:50<00:00,  4.28 Samples/s]\n"
     ]
    },
    {
     "name": "stdout",
     "output_type": "stream",
     "text": [
      "Initialised with 209 image(s) found.\n",
      "Output directory set to E:\\fci\\premaster\\2nd term\\machine learning\\learning projects\\ArabicOCR\\DataV2\\numbers\\fiveh\\output."
     ]
    },
    {
     "name": "stderr",
     "output_type": "stream",
     "text": [
      "Processing <PIL.Image.Image image mode=1 size=540x241 at 0x1498C482438>: 100%|█| 1500/1500 [06:27<00:00,  3.87 Samples/s]\n"
     ]
    },
    {
     "name": "stdout",
     "output_type": "stream",
     "text": [
      "Initialised with 209 image(s) found.\n",
      "Output directory set to E:\\fci\\premaster\\2nd term\\machine learning\\learning projects\\ArabicOCR\\DataV2\\numbers\\sixh\\output."
     ]
    },
    {
     "name": "stderr",
     "output_type": "stream",
     "text": [
      "Processing <PIL.Image.Image image mode=1 size=361x193 at 0x14991F030B8>: 100%|█| 1500/1500 [05:08<00:00,  4.86 Samples/s]\n"
     ]
    },
    {
     "name": "stdout",
     "output_type": "stream",
     "text": [
      "Initialised with 209 image(s) found.\n",
      "Output directory set to E:\\fci\\premaster\\2nd term\\machine learning\\learning projects\\ArabicOCR\\DataV2\\numbers\\sevenh\\output."
     ]
    },
    {
     "name": "stderr",
     "output_type": "stream",
     "text": [
      "Processing <PIL.Image.Image image mode=1 size=665x222 at 0x14991D58160>: 100%|█| 1500/1500 [04:45<00:00,  5.26 Samples/s]\n"
     ]
    },
    {
     "name": "stdout",
     "output_type": "stream",
     "text": [
      "Initialised with 209 image(s) found.\n",
      "Output directory set to E:\\fci\\premaster\\2nd term\\machine learning\\learning projects\\ArabicOCR\\DataV2\\numbers\\eighth\\output."
     ]
    },
    {
     "name": "stderr",
     "output_type": "stream",
     "text": [
      "Processing <PIL.Image.Image image mode=1 size=553x169 at 0x14991D9A358>: 100%|█| 1500/1500 [04:18<00:00,  5.81 Samples/s]\n"
     ]
    },
    {
     "name": "stdout",
     "output_type": "stream",
     "text": [
      "Initialised with 209 image(s) found.\n",
      "Output directory set to E:\\fci\\premaster\\2nd term\\machine learning\\learning projects\\ArabicOCR\\DataV2\\numbers\\nineh\\output."
     ]
    },
    {
     "name": "stderr",
     "output_type": "stream",
     "text": [
      "Processing <PIL.Image.Image image mode=1 size=713x225 at 0x1498FAD90F0>: 100%|█| 1500/1500 [04:21<00:00,  9.15 Samples/s]\n"
     ]
    },
    {
     "name": "stdout",
     "output_type": "stream",
     "text": [
      "Initialised with 104 image(s) found.\n",
      "Output directory set to E:\\fci\\premaster\\2nd term\\machine learning\\learning projects\\ArabicOCR\\DataV2\\numbers\\thousand\\output."
     ]
    },
    {
     "name": "stderr",
     "output_type": "stream",
     "text": [
      "Processing <PIL.Image.Image image mode=1 size=379x271 at 0x1498FADFA20>: 100%|█| 1500/1500 [04:05<00:00, 13.13 Samples/s]\n"
     ]
    },
    {
     "name": "stdout",
     "output_type": "stream",
     "text": [
      "Initialised with 210 image(s) found.\n",
      "Output directory set to E:\\fci\\premaster\\2nd term\\machine learning\\learning projects\\ArabicOCR\\DataV2\\numbers\\twoth\\output."
     ]
    },
    {
     "name": "stderr",
     "output_type": "stream",
     "text": [
      "Processing <PIL.Image.Image image mode=1 size=421x265 at 0x14991D73550>: 100%|█| 1500/1500 [03:58<00:00,  6.30 Samples/s]\n"
     ]
    },
    {
     "name": "stdout",
     "output_type": "stream",
     "text": [
      "Initialised with 104 image(s) found.\n",
      "Output directory set to E:\\fci\\premaster\\2nd term\\machine learning\\learning projects\\ArabicOCR\\DataV2\\numbers\\thousands\\output."
     ]
    },
    {
     "name": "stderr",
     "output_type": "stream",
     "text": [
      "Processing <PIL.Image.Image image mode=1 size=504x289 at 0x1498EACC240>: 100%|█| 1500/1500 [03:54<00:00,  6.41 Samples/s]\n"
     ]
    },
    {
     "name": "stdout",
     "output_type": "stream",
     "text": [
      "Initialised with 104 image(s) found.\n",
      "Output directory set to E:\\fci\\premaster\\2nd term\\machine learning\\learning projects\\ArabicOCR\\DataV2\\numbers\\milion\\output."
     ]
    },
    {
     "name": "stderr",
     "output_type": "stream",
     "text": [
      "Processing <PIL.Image.Image image mode=1 size=540x337 at 0x14991D6A588>: 100%|█| 1500/1500 [03:59<00:00,  6.26 Samples/s]\n"
     ]
    }
   ],
   "source": [
    "import Augmentor\n",
    "\n",
    "\n",
    "image_coll = ['ahad','ahda','ethna','one','two','three','four','five','six','seven','eight','nine','ten',\n",
    "              'twenty','thirty','fourty','fifty','sixty','seventy','eighty','ninety',\n",
    "              'hundered','twoh','threeh','fourh','fiveh','sixh','sevenh','eighth','nineh',\n",
    "              'thousand','twoth','thousands','milion']\n",
    "for source in image_coll:\n",
    "    p = Augmentor.Pipeline(\"E:\\\\fci\\premaster\\\\2nd term\\\\machine learning\\\\learning projects\\\\ArabicOCR\\\\DataV2\\\\numbers\\\\\"+source)\n",
    "    #p.rotate(probability=1, max_left_rotation=10, max_right_rotation=10)\n",
    "    p.rotate_without_crop(probability=1, max_left_rotation=10, max_right_rotation=10, expand=False)        \n",
    "    p.gaussian_distortion(probability = .75 , grid_width=6, grid_height = 6, magnitude = .3, corner = \"bell\", method = 'in', mex=0.5, mey=0.5,\n",
    "                            sdx=0.05, sdy=0.05)\n",
    "    p.skew(probability=.50, magnitude=.4)\n",
    "   # p.random_erasing(probability = .40, rectangle_area=0.11)\n",
    "    #p.resize(probability=1.0, width=120, height=120)\n",
    "    p.sample(1500)"
   ]
  },
  {
   "cell_type": "code",
   "execution_count": 47,
   "metadata": {},
   "outputs": [],
   "source": [
    "\n"
   ]
  },
  {
   "cell_type": "code",
   "execution_count": 49,
   "metadata": {},
   "outputs": [
    {
     "name": "stderr",
     "output_type": "stream",
     "text": [
      "Processing <PIL.Image.Image image mode=1 size=361x265 at 0x1498E97FA20>: 100%|█| 100/100 [00:06<00:00, 23.66 Samples/s]\n"
     ]
    }
   ],
   "source": [
    "p.sample(100)"
   ]
  },
  {
   "cell_type": "code",
   "execution_count": 130,
   "metadata": {},
   "outputs": [
    {
     "name": "stderr",
     "output_type": "stream",
     "text": [
      "c:\\users\\mohamed atta\\appdata\\local\\programs\\python\\python36\\lib\\site-packages\\skimage\\transform\\_warps.py:84: UserWarning: The default mode, 'constant', will be changed to 'reflect' in skimage 0.15.\n",
      "  warn(\"The default mode, 'constant', will be changed to 'reflect' in \"\n"
     ]
    },
    {
     "data": {
      "image/png": "[encoded data removed]",
      "text/plain": [
       "<Figure size 4320x5040 with 1 Axes>"
      ]
     },
     "metadata": {},
     "output_type": "display_data"
    }
   ],
   "source": [
    "import matplotlib.pyplot as plt\n",
    "from IPython import display\n",
    "from skimage import io\n",
    "import numpy as np\n",
    "from skimage.transform import resize\n",
    "import matplotlib.pyplot as plt\n",
    "from skimage.transform import resize\n",
    "import csv\n",
    "img_rows,img_cols = 60,70\n",
    "imageInput = []\n",
    "\n",
    "coll = io.ImageCollection('../Datav2/test/*.tif')\n",
    "for img in coll:\n",
    "    #img = localizeWord(img)\n",
    "    imageInput.append(resize(img,(len(img),len(img[0]),1)))\n",
    "imageInput = np.array(imageInput)\n",
    "from PIL import Image\n",
    "import numpy as np\n",
    "\n",
    "samples = imageInput\n",
    "plt.figure(figsize=(60,70))\n",
    "for i in range(samples.shape[0]):\n",
    "    plt.subplot(4,4,i+1)\n",
    "    img = samples[i,:,:,0]\n",
    "    plt.imshow(img,interpolation='nearest', cmap='gray_r')\n",
    "    plt.axis('off')\n",
    "plt.tight_layout()\n",
    "plt.show()\n",
    "\n",
    "\n",
    "\n",
    "\n",
    "\n",
    "\n"
   ]
  },
  {
   "cell_type": "code",
   "execution_count": 131,
   "metadata": {},
   "outputs": [],
   "source": [
    "def imageSlice(img,startColumnIndex,endColumnIndex,startRow,endRow):\n",
    "    slice = []\n",
    "    print(startColumnIndex,endColumnIndex)\n",
    "    print(startRow,endRow)\n",
    "    for i in range(startRow,endRow):\n",
    "        slice.append(np.array(img[i][startColumnIndex:endColumnIndex+1]))\n",
    "    return np.array(slice);"
   ]
  },
  {
   "cell_type": "code",
   "execution_count": 132,
   "metadata": {},
   "outputs": [
    {
     "name": "stdout",
     "output_type": "stream",
     "text": [
      "test 2148\n",
      "2148 2557\n",
      "0 365\n",
      "test 2042\n",
      "2042 2106\n",
      "0 365\n",
      "test 1812\n",
      "1812 2027\n",
      "0 365\n",
      "test 1637\n",
      "1637 1742\n",
      "0 365\n",
      "test 1056\n",
      "1056 1598\n",
      "0 365\n",
      "test 920\n",
      "920 993\n",
      "0 365\n",
      "test 398\n",
      "398 896\n",
      "0 365\n",
      "test 272\n",
      "272 342\n",
      "0 365\n",
      "test 202\n",
      "202 262\n",
      "0 365\n",
      "test 13\n",
      "13 186\n",
      "0 365\n",
      "10\n"
     ]
    }
   ],
   "source": [
    "imageSplits = []\n",
    "started = False\n",
    "startIndex = 0\n",
    "for j in range(len(imageInput[0][0])-2,0,-1):\n",
    "    sum = 0\n",
    "    \n",
    "    for i in range(len(imageInput[0])):\n",
    "        sum = sum +imageInput[0][i][j][0]\n",
    "    if sum >= len(imageInput[0])-3:# threshold\n",
    "        if started == False:\n",
    "            started = True\n",
    "            startIndex = j\n",
    "        elif started == True:\n",
    "            if startIndex-j < 2: # threshold of column pixels of zeros\n",
    "                startIndex = j\n",
    "            else:\n",
    "                print(\"test\",j)\n",
    "                slice = imageSlice(imageInput[0],j,startIndex,0,len(imageInput[0]))\n",
    "                imageSplits.append(slice)\n",
    "                started = False\n",
    "\n",
    "            \n",
    "print(len(imageSplits))\n"
   ]
  },
  {
   "cell_type": "code",
   "execution_count": 133,
   "metadata": {},
   "outputs": [],
   "source": [
    "imageSplits[0] = np.concatenate((imageSplits[0],imageSplits[1]),axis = 1)\n",
    "imageSplits[0] = np.concatenate((imageSplits[0],imageSplits[2]),axis = 1)\n",
    "imageSplits[0] = np.concatenate((imageSplits[0],imageSplits[3]),axis = 1)\n"
   ]
  },
  {
   "cell_type": "code",
   "execution_count": 134,
   "metadata": {},
   "outputs": [
    {
     "name": "stdout",
     "output_type": "stream",
     "text": [
      "10\n",
      "(365, 797, 1)\n",
      "(60, 70, 1)\n",
      "10\n"
     ]
    },
    {
     "name": "stderr",
     "output_type": "stream",
     "text": [
      "c:\\users\\mohamed atta\\appdata\\local\\programs\\python\\python36\\lib\\site-packages\\skimage\\transform\\_warps.py:84: UserWarning: The default mode, 'constant', will be changed to 'reflect' in skimage 0.15.\n",
      "  warn(\"The default mode, 'constant', will be changed to 'reflect' in \"\n"
     ]
    }
   ],
   "source": [
    "print(len(imageSplits))\n",
    "print(imageSplits[0].shape)\n",
    "\n",
    "for i in range(len(imageSplits)):\n",
    "    #img = localizeWord(img)\n",
    "    imageSplits[i] = resize(imageSplits[i],(60,70,1))\n",
    "print(imageSplits[0].shape)\n",
    "imageSplits = np.array(imageSplits)\n",
    "print(len(imageSplits))"
   ]
  },
  {
   "cell_type": "code",
   "execution_count": null,
   "metadata": {},
   "outputs": [],
   "source": []
  },
  {
   "cell_type": "code",
   "execution_count": 135,
   "metadata": {},
   "outputs": [
    {
     "data": {
      "image/png": "[encoded data removed]",
      "text/plain": [
       "<Figure size 4320x5040 with 10 Axes>"
      ]
     },
     "metadata": {},
     "output_type": "display_data"
    }
   ],
   "source": [
    "samples = imageSplits\n",
    "plt.figure(figsize=(60,70))\n",
    "for i in range(samples.shape[0]):\n",
    "    plt.subplot(4,4,i+1)\n",
    "    img = samples[i,:,:,0]\n",
    "    plt.imshow(img,interpolation='nearest', cmap='gray_r')\n",
    "    plt.axis('off')\n",
    "plt.tight_layout()\n",
    "plt.show()\n",
    "\n"
   ]
  },
  {
   "cell_type": "code",
   "execution_count": 99,
   "metadata": {},
   "outputs": [
    {
     "name": "stdout",
     "output_type": "stream",
     "text": [
      "280\n"
     ]
    }
   ],
   "source": [
    "print(len(imageSplits))\n"
   ]
  },
  {
   "cell_type": "code",
   "execution_count": null,
   "metadata": {},
   "outputs": [],
   "source": []
  }
 ],
 "metadata": {
  "kernelspec": {
   "display_name": "Python 3",
   "language": "python",
   "name": "python3"
  },
  "language_info": {
   "codemirror_mode": {
    "name": "ipython",
    "version": 3
   },
   "file_extension": ".py",
   "mimetype": "text/x-python",
   "name": "python",
   "nbconvert_exporter": "python",
   "pygments_lexer": "ipython3",
   "version": "3.6.5"
  }
 },
 "nbformat": 4,
 "nbformat_minor": 2
}
